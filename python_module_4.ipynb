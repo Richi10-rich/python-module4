{
  "nbformat": 4,
  "nbformat_minor": 0,
  "metadata": {
    "colab": {
      "provenance": []
    },
    "kernelspec": {
      "name": "python3",
      "display_name": "Python 3"
    },
    "language_info": {
      "name": "python"
    }
  },
  "cells": [
    {
      "cell_type": "markdown",
      "source": [
        "# MODULE **4**"
      ],
      "metadata": {
        "id": "D5ODVTxhXajc"
      }
    },
    {
      "cell_type": "markdown",
      "source": [
        "1. What is the difference between a function and a method in Python?\n",
        "  - A function is a block of code that performs a specific task and can be called independently.\n",
        "It is not associated with any particular object or class.\n",
        "  - A method is a function that is defined within a class and is associated with an object of that class.\n",
        "It operates on the object's data and can access its attributes."
      ],
      "metadata": {
        "id": "GhNIUiWJXj0b"
      }
    },
    {
      "cell_type": "code",
      "source": [
        "# Function:\n",
        "def add_numbers(x, y):\n",
        "  return x + y\n",
        "add_numbers(2,3)"
      ],
      "metadata": {
        "colab": {
          "base_uri": "https://localhost:8080/"
        },
        "id": "8qk0ryaVamix",
        "outputId": "61bfb3cf-fc05-4157-943e-ceb7b7f2053f"
      },
      "execution_count": null,
      "outputs": [
        {
          "output_type": "execute_result",
          "data": {
            "text/plain": [
              "5"
            ]
          },
          "metadata": {},
          "execution_count": 2
        }
      ]
    },
    {
      "cell_type": "code",
      "source": [
        "# Method:\n",
        "class Employee:\n",
        "  def set_name(self, firstname, lastname):\n",
        "    self.firstname = firstname\n",
        "    self.lastname = lastname\n",
        "e1 = Employee()\n",
        "e1.set_name(\"Richi\",\"Arora\")\n",
        "print(e1.firstname)\n",
        "print(e1.lastname)"
      ],
      "metadata": {
        "colab": {
          "base_uri": "https://localhost:8080/"
        },
        "id": "WB6Kh0fscP6z",
        "outputId": "12de1f8e-01b6-4b99-d2bf-e257bcb966f0"
      },
      "execution_count": null,
      "outputs": [
        {
          "output_type": "stream",
          "name": "stdout",
          "text": [
            "Richi\n",
            "Arora\n"
          ]
        }
      ]
    },
    {
      "cell_type": "markdown",
      "source": [
        "2. Explain the concept of function arguments and parameters in Python.\n",
        "  - Parameters:\n",
        "Definition: Parameters are the variables listed inside the parentheses in the function definition. They act as placeholders for the values that will be passed to the function when it's called.\n",
        "Purpose: Parameters allow functions to be reusable and adaptable to different inputs.\n",
        "  - Arguments:\n",
        "Definition: Arguments are the actual values passed to a function when it's called. They correspond to the parameters defined in the function.\n",
        "Purpose: Arguments provide the specific data that the function will work with."
      ],
      "metadata": {
        "id": "P8TQn3Zpi8PF"
      }
    },
    {
      "cell_type": "code",
      "source": [
        "def greet(name):  # 'name' is a parameter\n",
        "    print(\"Hello, \" + name + \"!\")"
      ],
      "metadata": {
        "id": "cZFAtsyvpcyG"
      },
      "execution_count": null,
      "outputs": []
    },
    {
      "cell_type": "code",
      "source": [
        "greet(\"Richi\") # 'Richi' is an argument"
      ],
      "metadata": {
        "colab": {
          "base_uri": "https://localhost:8080/"
        },
        "id": "rYI_vfurqwXR",
        "outputId": "f4e7384d-2083-4bf9-c552-001ff56a5b6b"
      },
      "execution_count": null,
      "outputs": [
        {
          "output_type": "stream",
          "name": "stdout",
          "text": [
            "Hello, Richi!\n"
          ]
        }
      ]
    },
    {
      "cell_type": "markdown",
      "source": [
        "3. What are the different ways to define and call a function in Python?\n",
        "  - In Python, you can define functions in several ways and call them accordingly:"
      ],
      "metadata": {
        "id": "40nkNWhdr-5Y"
      }
    },
    {
      "cell_type": "code",
      "source": [
        "# Standard function\n",
        "def add_numbers(a, b):\n",
        "    return a + b\n",
        "\n",
        "# Lambda function\n",
        "multiply = lambda x, y : (x * y)\n",
        "\n",
        "# Calling functions\n",
        "result1 = add_numbers(2, 3)  # result1 = 5\n",
        "result2 = multiply(4, 5)  # result2 = 20"
      ],
      "metadata": {
        "id": "fMqBIrgcuYOS"
      },
      "execution_count": null,
      "outputs": []
    },
    {
      "cell_type": "code",
      "source": [
        "# Calling functions\n",
        "result1"
      ],
      "metadata": {
        "colab": {
          "base_uri": "https://localhost:8080/"
        },
        "id": "pgXZvbmRu4hH",
        "outputId": "3a6e87df-a727-4798-fb72-20c9ce2aaf54"
      },
      "execution_count": null,
      "outputs": [
        {
          "output_type": "execute_result",
          "data": {
            "text/plain": [
              "5"
            ]
          },
          "metadata": {},
          "execution_count": 37
        }
      ]
    },
    {
      "cell_type": "code",
      "source": [
        "result2"
      ],
      "metadata": {
        "colab": {
          "base_uri": "https://localhost:8080/"
        },
        "id": "uN43R7Pavc6j",
        "outputId": "5ba6e991-0f48-4c58-e2ee-b4ef4865590f"
      },
      "execution_count": null,
      "outputs": [
        {
          "output_type": "execute_result",
          "data": {
            "text/plain": [
              "20"
            ]
          },
          "metadata": {},
          "execution_count": 36
        }
      ]
    },
    {
      "cell_type": "markdown",
      "source": [
        "4. What is the purpose of the `return` statement in a Python function?\n",
        "  - The purpose of the return statement in a Python function is to:\n",
        "\n",
        "* End the function: The return statement marks the end of a function.\n",
        "\n",
        "* Return a value: The return statement specifies the value or values to pass back from the function.\n",
        "\n",
        "* Return any type of data: The return statement can return data of any type, including integers, floats, strings, lists, dictionaries, and even other functions.\n",
        "\n",
        "* Return multiple values: A function can have multiple return statements, and the function call is terminated when one of the return statements is reached.\n",
        "Use the return value: The return value can be used as an argument to another function."
      ],
      "metadata": {
        "id": "IHtlndhAwY5j"
      }
    },
    {
      "cell_type": "code",
      "source": [
        "def add_numbers(x, y):\n",
        "  return x + y\n",
        "add_numbers(2,3)"
      ],
      "metadata": {
        "colab": {
          "base_uri": "https://localhost:8080/"
        },
        "id": "gakzjXnxy4_0",
        "outputId": "02450fb2-99f0-4b06-cd98-c2b6e3a06ed8"
      },
      "execution_count": null,
      "outputs": [
        {
          "output_type": "execute_result",
          "data": {
            "text/plain": [
              "5"
            ]
          },
          "metadata": {},
          "execution_count": 38
        }
      ]
    },
    {
      "cell_type": "markdown",
      "source": [
        "5. What are iterators in Python and how do they differ from iterables?\n",
        "  - An Iterable is basically an object that any user can iterate over. An Iterator is also an object that helps a user in iterating over another object (that is iterable). We can generate an iterator when we pass the object to the iter() method. We use the __next__() method for iterating."
      ],
      "metadata": {
        "id": "_fNBVFHX0G3D"
      }
    },
    {
      "cell_type": "code",
      "source": [
        "s = \"pwskills\"  # iterable\n",
        "a = iter(s)     # iterator\n",
        "a"
      ],
      "metadata": {
        "colab": {
          "base_uri": "https://localhost:8080/"
        },
        "id": "N85XCXqe3VC5",
        "outputId": "36066f8d-9358-4d16-e30e-168b705078ec"
      },
      "execution_count": null,
      "outputs": [
        {
          "output_type": "execute_result",
          "data": {
            "text/plain": [
              "<str_iterator at 0x7d3c756f2200>"
            ]
          },
          "metadata": {},
          "execution_count": 81
        }
      ]
    },
    {
      "cell_type": "code",
      "source": [
        "next(a)          # iterating"
      ],
      "metadata": {
        "colab": {
          "base_uri": "https://localhost:8080/",
          "height": 36
        },
        "id": "-aRgZFrY48yZ",
        "outputId": "c7d1c90a-f826-47e1-d293-b7f379086ca3"
      },
      "execution_count": null,
      "outputs": [
        {
          "output_type": "execute_result",
          "data": {
            "text/plain": [
              "'p'"
            ],
            "application/vnd.google.colaboratory.intrinsic+json": {
              "type": "string"
            }
          },
          "metadata": {},
          "execution_count": 44
        }
      ]
    },
    {
      "cell_type": "code",
      "source": [
        "next(a)"
      ],
      "metadata": {
        "colab": {
          "base_uri": "https://localhost:8080/",
          "height": 36
        },
        "id": "VHVcMFcg5D52",
        "outputId": "42f6237e-1162-4de0-cb1a-3c5760dab290"
      },
      "execution_count": null,
      "outputs": [
        {
          "output_type": "execute_result",
          "data": {
            "text/plain": [
              "'w'"
            ],
            "application/vnd.google.colaboratory.intrinsic+json": {
              "type": "string"
            }
          },
          "metadata": {},
          "execution_count": 45
        }
      ]
    },
    {
      "cell_type": "markdown",
      "source": [
        "6. Explain the concept of generators in Python and how they are defined.\n",
        "  - A Python generator function allows you to declare a function that behaves like an iterator, providing a faster and easier way to create iterators. They can be used on an abstract container of data to turn it into an iterable object like lists, dictionaries and strings."
      ],
      "metadata": {
        "id": "ieEjXvR77JtE"
      }
    },
    {
      "cell_type": "code",
      "source": [
        "def square_number_generator(n):\n",
        "  for i in range(n):\n",
        "    yield i**2\n",
        "square_number_generator(10)"
      ],
      "metadata": {
        "colab": {
          "base_uri": "https://localhost:8080/"
        },
        "id": "Da8HPCcQBBF6",
        "outputId": "c4c41078-0e27-4fea-8a6b-7ad65c0c8efd"
      },
      "execution_count": null,
      "outputs": [
        {
          "output_type": "execute_result",
          "data": {
            "text/plain": [
              "<generator object square_number_generator at 0x7d3c64565e70>"
            ]
          },
          "metadata": {},
          "execution_count": 79
        }
      ]
    },
    {
      "cell_type": "code",
      "source": [
        "gen = square_number_generator(10)\n",
        "gen"
      ],
      "metadata": {
        "colab": {
          "base_uri": "https://localhost:8080/"
        },
        "id": "ONL3w0liOlOu",
        "outputId": "7eed41f3-1812-4474-a5ea-ee3fc536fb87"
      },
      "execution_count": null,
      "outputs": [
        {
          "output_type": "execute_result",
          "data": {
            "text/plain": [
              "<generator object square_number_generator at 0x7d3c64566110>"
            ]
          },
          "metadata": {},
          "execution_count": 85
        }
      ]
    },
    {
      "cell_type": "code",
      "source": [
        "next(gen) # generating output one by one"
      ],
      "metadata": {
        "colab": {
          "base_uri": "https://localhost:8080/"
        },
        "id": "hoYrytxBUuT7",
        "outputId": "c8d8a244-5b8e-4d0f-f0dd-95bd08622ab1"
      },
      "execution_count": null,
      "outputs": [
        {
          "output_type": "execute_result",
          "data": {
            "text/plain": [
              "0"
            ]
          },
          "metadata": {},
          "execution_count": 86
        }
      ]
    },
    {
      "cell_type": "code",
      "source": [
        "next(gen)"
      ],
      "metadata": {
        "colab": {
          "base_uri": "https://localhost:8080/"
        },
        "id": "eau9XkdFUzPd",
        "outputId": "4223eb08-29f1-45c5-8efa-ffb3d42345c1"
      },
      "execution_count": null,
      "outputs": [
        {
          "output_type": "execute_result",
          "data": {
            "text/plain": [
              "1"
            ]
          },
          "metadata": {},
          "execution_count": 87
        }
      ]
    },
    {
      "cell_type": "code",
      "source": [
        "next(gen)"
      ],
      "metadata": {
        "colab": {
          "base_uri": "https://localhost:8080/"
        },
        "id": "QFxRueg2U34s",
        "outputId": "b671809a-af20-49b5-9ea1-4769f3b34948"
      },
      "execution_count": null,
      "outputs": [
        {
          "output_type": "execute_result",
          "data": {
            "text/plain": [
              "4"
            ]
          },
          "metadata": {},
          "execution_count": 88
        }
      ]
    },
    {
      "cell_type": "markdown",
      "source": [
        "7. What are the advantages of using generators over regular functions?\n",
        "  - A normal function creates an entire sequence in memory to return a sequence from the list. If the number of items in the sequence is large, it can consume ample memory. However, a generator function is memory-friendly as it calculates the value and produces one item at a time."
      ],
      "metadata": {
        "id": "ocdf2opOVZlN"
      }
    },
    {
      "cell_type": "markdown",
      "source": [
        "8. What is a lambda function in Python and when is it typically used?\n",
        "  - In Python, a lambda function is a small, anonymous, inline function that's defined using the keyword lambda. They are often used for short-term operations where a full function definition isn't needed."
      ],
      "metadata": {
        "id": "NJgSMSAwY_fO"
      }
    },
    {
      "cell_type": "code",
      "source": [
        "sq_lambda = lambda x : x**2\n",
        "sq_lambda(6)"
      ],
      "metadata": {
        "colab": {
          "base_uri": "https://localhost:8080/"
        },
        "id": "sOHGSi6QZVgg",
        "outputId": "53cbfb33-53b9-4980-cc25-cdce97d55f15"
      },
      "execution_count": null,
      "outputs": [
        {
          "output_type": "execute_result",
          "data": {
            "text/plain": [
              "36"
            ]
          },
          "metadata": {},
          "execution_count": 92
        }
      ]
    },
    {
      "cell_type": "markdown",
      "source": [
        "9. Explain the purpose and usage of the `map()` function in Python.\n",
        "   - Map in Python is a function that works as an iterator to return a result after applying a function to every item of an iterable (tuple, lists, etc.). It is used when you want to apply a single transformation function to all the iterable elements.13 Nov 2024\n"
      ],
      "metadata": {
        "id": "M8NYFQolaHAO"
      }
    },
    {
      "cell_type": "code",
      "source": [
        "numbers = [1, 2, 3, 4]\n",
        "\n",
        "# Square each number using a lambda function\n",
        "squared_numbers = map(lambda x: x**2, numbers)\n",
        "\n",
        "# Convert the iterator to a list\n",
        "squared_numbers_list = list(squared_numbers)\n",
        "\n",
        "print(squared_numbers_list)"
      ],
      "metadata": {
        "colab": {
          "base_uri": "https://localhost:8080/"
        },
        "id": "UcgqwznWGlru",
        "outputId": "9d3a7e99-41b5-4d4c-b767-8c24257c4aa3"
      },
      "execution_count": null,
      "outputs": [
        {
          "output_type": "stream",
          "name": "stdout",
          "text": [
            "[1, 4, 9, 16]\n"
          ]
        }
      ]
    },
    {
      "cell_type": "markdown",
      "source": [
        "10. What is the difference between `map()`, `reduce()`, and `filter()` functions in Python?\n",
        "  - map():\n",
        "Purpose: Applies a given function to each element of an iterable (e.g., a list, tuple) and returns a new iterable containing the transformed elements.\n",
        "  - filter():\n",
        "Purpose: Filters elements from an iterable based on a given function that returns True or False for each element. It returns a new iterable containing only the elements that passed the filter.\n",
        "  - reduce():\n",
        "Purpose: Combines all elements of an iterable into a single value by applying a given function cumulatively from left to right."
      ],
      "metadata": {
        "id": "Q_LNYxzgZ0F8"
      }
    },
    {
      "cell_type": "code",
      "source": [
        "numbers = [1, 2, 3, 4]\n",
        "squared = map(lambda x: x**2, numbers)\n",
        "print(list(squared))"
      ],
      "metadata": {
        "colab": {
          "base_uri": "https://localhost:8080/"
        },
        "id": "REEfSvYo8cAR",
        "outputId": "05a2cff2-20bd-4538-d331-1654fdf3aeb3"
      },
      "execution_count": 5,
      "outputs": [
        {
          "output_type": "stream",
          "name": "stdout",
          "text": [
            "[1, 4, 9, 16]\n"
          ]
        }
      ]
    },
    {
      "cell_type": "code",
      "source": [
        "numbers = [1, 2, 3, 4]\n",
        "evens = filter(lambda x: x % 2 == 0, numbers)\n",
        "print(list(evens))"
      ],
      "metadata": {
        "colab": {
          "base_uri": "https://localhost:8080/"
        },
        "id": "KlBdG8FbBb1S",
        "outputId": "5ae27ea7-2e10-490e-aedf-c3699dc7f7d5"
      },
      "execution_count": 8,
      "outputs": [
        {
          "output_type": "stream",
          "name": "stdout",
          "text": [
            "[2, 4]\n"
          ]
        }
      ]
    },
    {
      "cell_type": "code",
      "source": [
        "from functools import reduce\n",
        "\n",
        "numbers = [1, 2, 3, 4]\n",
        "product = reduce(lambda x, y: x * y, numbers)\n",
        "print(product)"
      ],
      "metadata": {
        "colab": {
          "base_uri": "https://localhost:8080/"
        },
        "id": "TNJArYkSBxvu",
        "outputId": "ddcc661e-d89f-4ede-b05d-a28bb2726abb"
      },
      "execution_count": 9,
      "outputs": [
        {
          "output_type": "stream",
          "name": "stdout",
          "text": [
            "24\n"
          ]
        }
      ]
    },
    {
      "cell_type": "markdown",
      "source": [
        "11. Using pen & Paper write the internal mechanism for sum operation using  reduce function on this given\n",
        "list:[47,11,42,13];"
      ],
      "metadata": {
        "id": "JT5V4GAvEUyw"
      }
    },
    {
      "cell_type": "code",
      "source": [
        "# 1. Write a Python function that takes a list of numbers as input and returns the sum of all even numbers in the list.\n",
        "def sum_even_numbers(numbers):\n",
        "    # Initialize a variable to store the sum of even numbers\n",
        "    even_sum = 0\n",
        "\n",
        "    # Loop through each number in the list\n",
        "    for num in numbers:\n",
        "        # Check if the number is even\n",
        "        if num % 2 == 0:\n",
        "            even_sum += num  # Add even number to the sum\n",
        "\n",
        "    return even_sum\n",
        "numbers = [1, 2, 3, 4, 5, 6]\n",
        "result = sum_even_numbers(numbers)\n",
        "print(result)  # Output: 12 (2 + 4 + 6)\n"
      ],
      "metadata": {
        "colab": {
          "base_uri": "https://localhost:8080/"
        },
        "id": "61UX07wvMgJ_",
        "outputId": "1f61d733-c64a-4a94-e4ee-647916fc9e5d"
      },
      "execution_count": 15,
      "outputs": [
        {
          "output_type": "stream",
          "name": "stdout",
          "text": [
            "12\n"
          ]
        }
      ]
    },
    {
      "cell_type": "code",
      "source": [
        "# 2.Create a Python function that accepts a string and returns the reverse of that string.\n",
        "def reverse_string(word):\n",
        "  return word[::-1]\n",
        "result = reverse_string(\"HELLO WORLD !\")\n",
        "print(result)"
      ],
      "metadata": {
        "colab": {
          "base_uri": "https://localhost:8080/"
        },
        "id": "lE652KqURRFy",
        "outputId": "17977893-3f08-45d6-beb0-b6f706b5d734"
      },
      "execution_count": 20,
      "outputs": [
        {
          "output_type": "stream",
          "name": "stdout",
          "text": [
            "! DLROW OLLEH\n"
          ]
        }
      ]
    },
    {
      "cell_type": "code",
      "source": [
        "# 3. Implement a Python function that takes a list of integers and returns a new list containing the squares of each number\n",
        "def sq_num(numbers):\n",
        "  result = [ x**2 for x in numbers]\n",
        "  return result\n",
        "numbers = [1,2,3,4,5]\n",
        "sq_num(numbers)"
      ],
      "metadata": {
        "colab": {
          "base_uri": "https://localhost:8080/"
        },
        "id": "AQdsPN57V6gL",
        "outputId": "82ce2856-ccaf-4562-e69f-20ec3d8a59b7"
      },
      "execution_count": 29,
      "outputs": [
        {
          "output_type": "execute_result",
          "data": {
            "text/plain": [
              "[1, 4, 9, 16, 25]"
            ]
          },
          "metadata": {},
          "execution_count": 29
        }
      ]
    },
    {
      "cell_type": "code",
      "source": [
        "# 4. Write a Python function that checks if a given number is prime or not from 1 to 200.\n",
        "def is_prime(n):\n",
        "    if n < 1:\n",
        "        return False\n",
        "    i = 2\n",
        "    while i*i <= n:\n",
        "      if n % 2 == 0:\n",
        "          return False\n",
        "      i += 1\n",
        "    return True\n",
        "print(is_prime(17))"
      ],
      "metadata": {
        "colab": {
          "base_uri": "https://localhost:8080/"
        },
        "id": "ukW9ZsfD6ZDp",
        "outputId": "07ede78d-c39d-4c85-96c6-5ade60a4bff8"
      },
      "execution_count": 19,
      "outputs": [
        {
          "output_type": "stream",
          "name": "stdout",
          "text": [
            "True\n"
          ]
        }
      ]
    },
    {
      "cell_type": "code",
      "source": [
        "# 5. Create an iterator class in Python that generates the Fibonacci sequence up to a specified number of terms.\n",
        "def fib(n):\n",
        "  a = 0\n",
        "  b = 1\n",
        "  for i in range (n):\n",
        "    yield a\n",
        "    a, b = b, a + b\n",
        "for number in fib(5):\n",
        "  print(number,end = \" , \")"
      ],
      "metadata": {
        "colab": {
          "base_uri": "https://localhost:8080/"
        },
        "id": "HQ_cXfIfhSQp",
        "outputId": "7145ce14-1b12-4a33-abfc-cbdae643b47b"
      },
      "execution_count": 69,
      "outputs": [
        {
          "output_type": "stream",
          "name": "stdout",
          "text": [
            "0 , 1 , 1 , 2 , 3 , "
          ]
        }
      ]
    },
    {
      "cell_type": "code",
      "source": [
        "# 6. Write a generator function in Python that yields the powers of 2 up to a given exponent.\n",
        "def powers_of_two(exponent):\n",
        "    for i in range(exponent + 1):   # +1 because it is upto the give exponent\n",
        "        yield 2 ** i\n",
        "exponent = 5\n",
        "for power in powers_of_two(exponent):\n",
        "    print(power)\n"
      ],
      "metadata": {
        "colab": {
          "base_uri": "https://localhost:8080/"
        },
        "id": "3ANcl46n03J1",
        "outputId": "1beaa5f4-ab66-4792-cdd7-4451d7cd63ec"
      },
      "execution_count": 71,
      "outputs": [
        {
          "output_type": "stream",
          "name": "stdout",
          "text": [
            "1\n",
            "2\n",
            "4\n",
            "8\n",
            "16\n",
            "32\n"
          ]
        }
      ]
    },
    {
      "cell_type": "code",
      "source": [
        "# 7. Implement a generator function that reads a file line by line and yields each line as a string.\n",
        "# Not understood"
      ],
      "metadata": {
        "id": "_lKMe4Fv7YYi"
      },
      "execution_count": 74,
      "outputs": []
    },
    {
      "cell_type": "code",
      "source": [
        "# 8. Use a lambda function in Python to sort a list of tuples based on the second element of each tuple.\n",
        " # List of tuples\n",
        "tuples_list = [(1, 3), (4, 1), (2, 5), (3, 2)]\n",
        "\n",
        "# Sort the list based on the second element of each tuple\n",
        "sorted_list = sorted(tuples_list, key=lambda x: x[1])\n",
        "\n",
        "print(sorted_list)\n"
      ],
      "metadata": {
        "colab": {
          "base_uri": "https://localhost:8080/"
        },
        "id": "8DSWwPQm9zzy",
        "outputId": "02e8a6ef-5f5c-444e-a51d-f61e77bece91"
      },
      "execution_count": 81,
      "outputs": [
        {
          "output_type": "stream",
          "name": "stdout",
          "text": [
            "[(4, 1), (3, 2), (1, 3), (2, 5)]\n"
          ]
        }
      ]
    },
    {
      "cell_type": "code",
      "source": [
        "# 9. Write a Python program that uses `map()` to convert a list of temperatures from Celsius to Fahrenheit.\n",
        "# List of temperatures in Celsius\n",
        "celsius = [0, 20, 25, 30, 35]\n",
        "\n",
        "# Function to convert Celsius to Fahrenheit\n",
        "def celsius_to_fahrenheit(celsius):\n",
        "    return (celsius * 9/5) + 32\n",
        "\n",
        "# Use map() to apply the function to each temperature in the list\n",
        "fahrenheit_temps = list(map(celsius_to_fahrenheit, celsius))\n",
        "\n",
        "print(fahrenheit_temps)\n"
      ],
      "metadata": {
        "colab": {
          "base_uri": "https://localhost:8080/"
        },
        "id": "BywZz_oODS20",
        "outputId": "a7ae97aa-96b8-48c4-d1c0-00af93cc55e7"
      },
      "execution_count": 83,
      "outputs": [
        {
          "output_type": "stream",
          "name": "stdout",
          "text": [
            "[32.0, 68.0, 77.0, 86.0, 95.0]\n"
          ]
        }
      ]
    },
    {
      "cell_type": "code",
      "source": [
        "# 10. Create a Python program that uses `filter()` to remove all the vowels from a given string.\n",
        "# Function to check if a character is not a vowel\n",
        "def is_not_vowel(char):\n",
        "    vowels = 'aeiouAEIOU'  # Vowels in both lowercase and uppercase\n",
        "    return char not in vowels\n",
        "\n",
        "# Given string\n",
        "input_string = \"Hello, World!\"\n",
        "\n",
        "# Use filter() to remove vowels\n",
        "filtered_string = ''.join(filter(is_not_vowel, input_string))\n",
        "\n",
        "print(filtered_string)\n"
      ],
      "metadata": {
        "colab": {
          "base_uri": "https://localhost:8080/"
        },
        "id": "MN7AzzRvKC6Y",
        "outputId": "dac70b8d-7e0b-4e75-bbe1-7a4db974a95a"
      },
      "execution_count": 86,
      "outputs": [
        {
          "output_type": "stream",
          "name": "stdout",
          "text": [
            "Hll, Wrld!\n"
          ]
        }
      ]
    },
    {
      "cell_type": "code",
      "source": [
        "# 12.Write a Python program using lambda and map.\n",
        "l = [1,2,3,4,5]\n",
        "list(map(lambda x : x**2,l))"
      ],
      "metadata": {
        "colab": {
          "base_uri": "https://localhost:8080/"
        },
        "id": "ZmXfCF07OEr9",
        "outputId": "8c753b34-06d4-4804-afe0-41f1aea6e3d4"
      },
      "execution_count": 87,
      "outputs": [
        {
          "output_type": "execute_result",
          "data": {
            "text/plain": [
              "[1, 4, 9, 16, 25]"
            ]
          },
          "metadata": {},
          "execution_count": 87
        }
      ]
    }
  ]
}